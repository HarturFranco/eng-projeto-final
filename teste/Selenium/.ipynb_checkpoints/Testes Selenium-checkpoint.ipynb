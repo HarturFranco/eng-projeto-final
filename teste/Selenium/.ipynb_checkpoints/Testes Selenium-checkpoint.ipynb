{
 "cells": [
  {
   "cell_type": "markdown",
   "id": "dd252bb8",
   "metadata": {},
   "source": [
    "# Teste dos Casos de testes po Selenium\n",
    "#### Segue abaixo os teste dos casos de testes (Arquivo: ./teste/Caso de testes.pdf) propostos pela equipe de desenvolvimento do projeto Toca de Instrumentos."
   ]
  },
  {
   "cell_type": "markdown",
   "id": "b274e1e8",
   "metadata": {},
   "source": [
    "##### Bibliotecas"
   ]
  },
  {
   "cell_type": "code",
   "execution_count": null,
   "id": "6fc76e55",
   "metadata": {},
   "outputs": [],
   "source": [
    "from selenium import webdriver\n",
    "from selenium.webdriver.common.keys import Keys\n",
    "from selenium.webdriver.support import expected_conditions as EC\n",
    "from selenium.webdriver.support.ui import WebDriverWait\n",
    "from selenium.webdriver.common.by import By\n",
    "from bs4 import BeautifulSoup"
   ]
  },
  {
   "cell_type": "markdown",
   "id": "08d2b117",
   "metadata": {},
   "source": [
    "##### Inicia o driver"
   ]
  },
  {
   "cell_type": "code",
   "execution_count": 66,
   "id": "34b6a346",
   "metadata": {},
   "outputs": [
    {
     "name": "stdout",
     "output_type": "stream",
     "text": [
      "Driver inicializado!\n"
     ]
    }
   ],
   "source": [
    "driver = webdriver.Firefox() ## Inicia o drive\n",
    "wait = WebDriverWait(driver, 10) ## Setar tempo de espera\n",
    "print(\"Driver inicializado!\")"
   ]
  },
  {
   "cell_type": "markdown",
   "id": "66075a82",
   "metadata": {},
   "source": [
    "##### Finaliza o driver"
   ]
  },
  {
   "cell_type": "code",
   "execution_count": 60,
   "id": "73457809",
   "metadata": {},
   "outputs": [
    {
     "name": "stdout",
     "output_type": "stream",
     "text": [
      "Driver finalizado!\n"
     ]
    }
   ],
   "source": [
    "driver.close() ## Finaliza driver\n",
    "print(\"Driver finalizado!\")"
   ]
  },
  {
   "cell_type": "markdown",
   "id": "f6f7aa0a",
   "metadata": {},
   "source": [
    "## [TSF001]\n",
    "### Resumo: Realizar a operação de login do funcionário, com objetivo de obtenção do acesso ao sistema."
   ]
  },
  {
   "cell_type": "markdown",
   "id": "cc2ca35b",
   "metadata": {},
   "source": [
    "#### Passo 1"
   ]
  },
  {
   "cell_type": "code",
   "execution_count": 67,
   "id": "c199ef0b",
   "metadata": {},
   "outputs": [
    {
     "name": "stdout",
     "output_type": "stream",
     "text": [
      "Página carregada - OKAY\n"
     ]
    }
   ],
   "source": [
    "## Procedimento\n",
    "url = \"http://localhost\"\n",
    "driver.get(url)\n",
    "\n",
    "## Resultado Esperado\n",
    "print(\"Página carregada - OKAY\") if wait.until(EC.title_is(\"Toca dos Instrumentos\")) else print(\"Página não carregada - ERROR\")"
   ]
  },
  {
   "cell_type": "markdown",
   "id": "9f407721",
   "metadata": {},
   "source": [
    "#### Passo 2"
   ]
  },
  {
   "cell_type": "code",
   "execution_count": 70,
   "id": "93dab3a1",
   "metadata": {},
   "outputs": [
    {
     "name": "stdout",
     "output_type": "stream",
     "text": [
      "username - OKAY\n",
      "senha - OKAY\n"
     ]
    }
   ],
   "source": [
    "## Procedimento\n",
    "## Login de Funcionário\n",
    "username = \"felipe\"\n",
    "senha = \"123123123\"\n",
    "########################################\n",
    "## Login de Gerente\n",
    "# username = \"thiago\"\n",
    "# senha = \"123456789\"\n",
    "campo_username = wait.until(EC.visibility_of_element_located((By.XPATH, '/html/body/div/div/form/input[1]')))\n",
    "campo_username.send_keys(username)\n",
    "campo_senha = wait.until(EC.visibility_of_element_located((By.XPATH, '/html/body/div/div/form/input[2]')))\n",
    "campo_senha.send_keys(senha)\n",
    "\n",
    "## Resultado Esperado\n",
    "print(\"username - OKAY\") if campo_username.get_attribute(\"value\") == username else print(\"username - ERROR\")\n",
    "print(\"senha - OKAY\") if campo_senha.get_attribute(\"value\") == senha else print(\"senha - ERROR\")"
   ]
  },
  {
   "cell_type": "markdown",
   "id": "06d938a5",
   "metadata": {},
   "source": [
    "#### Passo 3"
   ]
  },
  {
   "cell_type": "code",
   "execution_count": 71,
   "id": "d47eeaa2",
   "metadata": {},
   "outputs": [
    {
     "name": "stdout",
     "output_type": "stream",
     "text": [
      "Acesso obtido - OKAY\n"
     ]
    }
   ],
   "source": [
    "## Procedimento\n",
    "botao = wait.until(EC.visibility_of_element_located((By.XPATH, '/html/body/div/div/form/button')))\n",
    "botao.click()\n",
    "\n",
    "## Resultado Esperado\n",
    "print(\"Acesso obtido - OKAY\") if wait.until(EC.presence_of_element_located((By.XPATH, '/html/body/aside'))) else print(\"Acesso não obtido - ERROR\") "
   ]
  },
  {
   "cell_type": "markdown",
   "id": "f8372c88",
   "metadata": {},
   "source": [
    "## [TSF002]\n",
    "### Resumo: Realizar a operação de deleção de um funcionário, com objetivo de remoção do funcionário alvo do sistema."
   ]
  },
  {
   "cell_type": "markdown",
   "id": "fbf44e88",
   "metadata": {},
   "source": [
    "#### Passo 1"
   ]
  },
  {
   "cell_type": "code",
   "execution_count": 34,
   "id": "72d919c8",
   "metadata": {},
   "outputs": [
    {
     "name": "stdout",
     "output_type": "stream",
     "text": [
      "Página de funcionários acessada - OKAY\n"
     ]
    }
   ],
   "source": [
    "## Procediemento\n",
    "opcao = wait.until(EC.visibility_of_element_located((By.XPATH, '/html/body/aside/ul/li[6]/a')))\n",
    "opcao.click()\n",
    "\n",
    "## Resultado Esperado\n",
    "print(\"Página de funcionários acessada - OKAY\") if wait.until(EC.visibility_of_element_located((By.XPATH, '/html/body/div/div/h1'))).text == \"Funcionários\" else print(\"Página de funcionários não acessada - ERROR\")"
   ]
  },
  {
   "cell_type": "markdown",
   "id": "751f3e0d",
   "metadata": {},
   "source": [
    "#### Passo 2"
   ]
  },
  {
   "cell_type": "code",
   "execution_count": 35,
   "id": "9ce3faca",
   "metadata": {},
   "outputs": [],
   "source": [
    "## Procediemento\n",
    "nome_funcionario = \"Antonio Maria\"\n",
    "campo_filtro = wait.until(EC.visibility_of_element_located((By.XPATH, '/html/body/div/div/div/div/div/input')))\n",
    "campo_filtro.send_keys(nome_funcionario)\n",
    "botao_filtro = wait.until(EC.visibility_of_element_located((By.XPATH, '/html/body/div/div/div/div/div/button')))\n",
    "botao_filtro.click()\n",
    "\n",
    "## Resultado Esperado\n",
    "tabela_dados = wait.until(EC.visibility_of_element_located((By.XPATH, '/html/body/div/div/div/table/tbody')))\n",
    "\n",
    "lista_nomes_removidos = []\n",
    "tabela_dados = BeautifulSoup(tabela_dados.get_attribute(\"outerHTML\"), 'html.parser')\n",
    "for linha in tabela_dados.find_all(\"tr\", attrs={\"class\":\"hidden-tr\"}):\n",
    "    lista_nomes_removidos.append(linha.find_all('td')[3].get_text())\n",
    "print(\"Nome filtrado - OKAY\") if nome_funcionario not in lista_nomes_removidos else print(\"Nome não filtrado - ERROR\")"
   ]
  },
  {
   "cell_type": "markdown",
   "id": "304b90c5",
   "metadata": {},
   "source": [
    "#### Passo 3"
   ]
  },
  {
   "cell_type": "code",
   "execution_count": 45,
   "id": "92baa7d6",
   "metadata": {},
   "outputs": [],
   "source": [
    "## Procediemento\n",
    "botao_deletar = wait.until(EC.visibility_of_element_located((By.XPATH, '/html/body/div/div/div/table/tbody/tr[5]/td[6]/form/button')))\n",
    "botao_deletar.click()\n",
    "\n",
    "## Resultado Esperado\n",
    "resposta = wait.until(EC.visibility_of_element_located((By.XPATH, '/html/body/div[3]')))\n",
    "dado_resposta = BeautifulSoup(resposta.get_attribute(\"outerHTML\"), 'html.parser')\n",
    "print(\"Deletou o funcionário - OKAY\") if dado_resposta.find('h2').get_text() == \"Sucesso\" else print(\"Não deletou o funcionário - ERROR\")"
   ]
  },
  {
   "cell_type": "markdown",
   "id": "1c4f64fc",
   "metadata": {},
   "source": [
    "## [TSF003]\n",
    "### Resumo: Realizar a operação de cadastrar funcionário, com objetivo de verificar a integridade dos dados, tentando cadastrar um dado fora do padrão solicitado."
   ]
  },
  {
   "cell_type": "markdown",
   "id": "cfee5b12",
   "metadata": {},
   "source": [
    "#### Passo 1"
   ]
  },
  {
   "cell_type": "code",
   "execution_count": 55,
   "id": "d93d3bdf",
   "metadata": {},
   "outputs": [
    {
     "name": "stdout",
     "output_type": "stream",
     "text": [
      "Página de cadatrar clientes acessada - OKAY\n"
     ]
    }
   ],
   "source": [
    "## Procediemento\n",
    "opcao_cadatro = wait.until(EC.visibility_of_element_located((By.XPATH, '/html/body/aside/ul/li[2]/a')))\n",
    "opcao_cadatro.click()\n",
    "opcao_cadatro_cliente = wait.until(EC.visibility_of_element_located((By.XPATH, '/html/body/aside/ul/li[2]/ul/li[2]/a')))\n",
    "opcao_cadatro_cliente.click()\n",
    "\n",
    "## Resultado Esperado\n",
    "print(\"Página de cadatrar clientes acessada - OKAY\") if wait.until(EC.visibility_of_element_located((By.XPATH, '/html/body/div/div/h1'))).text == \"Cadastrar Cliente\" else print(\"Página de cadatrar clientes não acessada - ERROR\")"
   ]
  },
  {
   "cell_type": "markdown",
   "id": "985078ce",
   "metadata": {},
   "source": [
    "#### Passo 2"
   ]
  },
  {
   "cell_type": "code",
   "execution_count": 58,
   "id": "9f25dac0",
   "metadata": {},
   "outputs": [
    {
     "name": "stdout",
     "output_type": "stream",
     "text": [
      "nome - OKAY\n",
      "CPF - OKAY\n"
     ]
    }
   ],
   "source": [
    "## Procediemento\n",
    "nome = \"Thales Eduardo\"\n",
    "cpf = \"123456789\"\n",
    "campo_nome = wait.until(EC.visibility_of_element_located((By.XPATH, '/html/body/div/div/div/form/div[1]/input[1]')))\n",
    "campo_nome.send_keys(nome)\n",
    "campo_cpf = wait.until(EC.visibility_of_element_located((By.XPATH, '/html/body/div/div/div/form/div[1]/input[2]')))\n",
    "campo_cpf.send_keys(cpf)\n",
    "\n",
    "## Resultado Esperado\n",
    "print(\"nome - OKAY\") if campo_nome.get_attribute(\"value\") == nome else print(\"nome - ERROR\")\n",
    "print(\"CPF - OKAY\") if campo_cpf.get_attribute(\"value\") == cpf else print(\"CPF - ERROR\")"
   ]
  },
  {
   "cell_type": "markdown",
   "id": "8d2dbbb2",
   "metadata": {},
   "source": [
    "#### Passo 3"
   ]
  },
  {
   "cell_type": "code",
   "execution_count": 59,
   "id": "b6ddd4c4",
   "metadata": {},
   "outputs": [],
   "source": [
    "## Procediemento\n",
    "botao_cadastrar = wait.until(EC.visibility_of_element_located((By.XPATH, '/html/body/div/div/div/form/button')))\n",
    "botao_cadastrar.click()\n",
    "\n",
    "## Resultado Esperado\n",
    "try:\n",
    "    wait.until(EC.visibility_of_element_located((By.XPATH, '/html/body/div[3]')))\n",
    "    print(\"Foi possivel cadastrar o clinete - ERROR\")\n",
    "except:\n",
    "    print(\"Não foi possivel cadastrar o clinete - OKAY\")"
   ]
  },
  {
   "cell_type": "markdown",
   "id": "ff0e98ea",
   "metadata": {},
   "source": [
    "## [TSF004]\n",
    "### Resumo: Verificar se um funcionário, possui acesso à funcionalidade de consultar funcionários, que é algo exclusivo apenas aos gerentes."
   ]
  },
  {
   "cell_type": "markdown",
   "id": "6be7fe94",
   "metadata": {},
   "source": [
    "#### Passo 1"
   ]
  },
  {
   "cell_type": "code",
   "execution_count": 74,
   "id": "0243e37f",
   "metadata": {},
   "outputs": [
    {
     "name": "stdout",
     "output_type": "stream",
     "text": [
      "Não foi encontrado a opção Funcionários - OKAY\n"
     ]
    }
   ],
   "source": [
    "## Procediemento & Resultado Esperado\n",
    "lista_opcoes = []\n",
    "menu = wait.until(EC.visibility_of_element_located((By.XPATH, '/html/body/aside/ul')))\n",
    "menu_dados = BeautifulSoup(menu.get_attribute(\"outerHTML\"), 'html.parser')\n",
    "for opcao in menu_dados.find_all(\"li\"):\n",
    "    lista_opcoes.append(opcao.get_text().strip())\n",
    "print(\"Não foi encontrado a opção Funcionários - OKAY\") if \"Funcionários\" not in lista_opcoes else print(\"Foi encontrado a opção Funcionários - ERROR\")"
   ]
  },
  {
   "cell_type": "markdown",
   "id": "f0337f9c",
   "metadata": {},
   "source": [
    "## [TSF005]\n",
    "### Resumo: Realizar consulta a uma categoria, por algum campo específico dela."
   ]
  },
  {
   "cell_type": "markdown",
   "id": "14978158",
   "metadata": {},
   "source": [
    "#### Passo 1"
   ]
  },
  {
   "cell_type": "code",
   "execution_count": 75,
   "id": "563131d0",
   "metadata": {},
   "outputs": [
    {
     "name": "stdout",
     "output_type": "stream",
     "text": [
      "Página de categoria acessada - OKAY\n"
     ]
    }
   ],
   "source": [
    "## Procediemento\n",
    "opcao = wait.until(EC.visibility_of_element_located((By.XPATH, '/html/body/aside/ul/li[4]/a')))\n",
    "opcao.click()\n",
    "\n",
    "## Resultado Esperado\n",
    "print(\"Página de categoria acessada - OKAY\") if wait.until(EC.visibility_of_element_located((By.XPATH, '/html/body/div/div/h1'))).text == \"Categorias\" else print(\"Página de categoria não acessada - ERROR\")"
   ]
  },
  {
   "cell_type": "markdown",
   "id": "4a9bca45",
   "metadata": {},
   "source": [
    "#### Passo 2"
   ]
  },
  {
   "cell_type": "code",
   "execution_count": 80,
   "id": "50acf713",
   "metadata": {},
   "outputs": [
    {
     "name": "stdout",
     "output_type": "stream",
     "text": [
      "filtrar - OKAY\n"
     ]
    }
   ],
   "source": [
    "## Procediemento\n",
    "texto_buscar = \"Flauta\"\n",
    "campo_filtro = wait.until(EC.visibility_of_element_located((By.XPATH, '/html/body/div/div/div/div/div/input')))\n",
    "campo_filtro.send_keys(texto_buscar)\n",
    "\n",
    "## Resultado Esperado\n",
    "print(\"filtrar - OKAY\") if campo_filtro.get_attribute(\"value\") == texto_buscar else print(\"filtrar - ERROR\")"
   ]
  },
  {
   "cell_type": "markdown",
   "id": "9e1aff9b",
   "metadata": {},
   "source": [
    "#### Passo 3"
   ]
  },
  {
   "cell_type": "code",
   "execution_count": 81,
   "id": "28f4fdaf",
   "metadata": {},
   "outputs": [
    {
     "name": "stdout",
     "output_type": "stream",
     "text": [
      "Pesquisa filtrada - OKAY\n"
     ]
    }
   ],
   "source": [
    "## Procediemento\n",
    "botao_filtro = wait.until(EC.visibility_of_element_located((By.XPATH, '/html/body/div/div/div/div/div/button')))\n",
    "botao_filtro.click()\n",
    "\n",
    "## Resultado Esperado\n",
    "tabela_dados = wait.until(EC.visibility_of_element_located((By.XPATH, '/html/body/div/div/div/table/tbody')))\n",
    "\n",
    "lista_nomes_removidos = []\n",
    "tabela_dados = BeautifulSoup(tabela_dados.get_attribute(\"outerHTML\"), 'html.parser')\n",
    "for linha in tabela_dados.find_all(\"tr\", attrs={\"class\":\"hidden-tr\"}):\n",
    "    lista_nomes_removidos.append(linha.find_all('td')[3].get_text())\n",
    "print(\"Pesquisa filtrada - OKAY\") if texto_buscar not in lista_nomes_removidos else print(\"Pesquisa não filtrada - ERROR\")"
   ]
  },
  {
   "cell_type": "code",
   "execution_count": null,
   "id": "e96c7858",
   "metadata": {},
   "outputs": [],
   "source": []
  }
 ],
 "metadata": {
  "kernelspec": {
   "display_name": "Python 3",
   "language": "python",
   "name": "python3"
  },
  "language_info": {
   "codemirror_mode": {
    "name": "ipython",
    "version": 3
   },
   "file_extension": ".py",
   "mimetype": "text/x-python",
   "name": "python",
   "nbconvert_exporter": "python",
   "pygments_lexer": "ipython3",
   "version": "3.9.2"
  }
 },
 "nbformat": 4,
 "nbformat_minor": 5
}
